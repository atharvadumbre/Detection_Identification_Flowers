{
 "cells": [
  {
   "cell_type": "code",
   "execution_count": 1,
   "id": "73b85183",
   "metadata": {},
   "outputs": [],
   "source": [
    "import cv2\n",
    "import torch"
   ]
  },
  {
   "cell_type": "code",
   "execution_count": 5,
   "id": "cac07c77",
   "metadata": {},
   "outputs": [],
   "source": [
    "img = cv2.imread('data/images/download1.jpg')\n",
    "image_rgb = cv2.cvtColor(img, cv2.COLOR_BGR2RGB)"
   ]
  },
  {
   "cell_type": "code",
   "execution_count": 3,
   "id": "492aeb81",
   "metadata": {},
   "outputs": [
    {
     "name": "stderr",
     "output_type": "stream",
     "text": [
      "YOLOv5  2021-10-5 torch 1.9.1+cu111 CUDA:0 (NVIDIA GeForce RTX 3060 Laptop GPU, 6144.0MB)\n",
      "\n",
      "Fusing layers... \n",
      "Model Summary: 392 layers, 46622106 parameters, 0 gradients, 114.2 GFLOPs\n",
      "Adding AutoShape... \n"
     ]
    }
   ],
   "source": [
    "model = torch.hub.load('yolov5/', 'custom', path='yolov5/runs/train/exp15/weights/best.pt', source='local')"
   ]
  },
  {
   "cell_type": "code",
   "execution_count": 7,
   "id": "317e52d6",
   "metadata": {},
   "outputs": [
    {
     "name": "stderr",
     "output_type": "stream",
     "text": [
      "image 1/1: 900x1371 8 Roses, 1 Lantana, 1 Bougainvillea\n",
      "Speed: 191.0ms pre-process, 20.2ms inference, 2.0ms NMS per image at shape (1, 3, 448, 640)\n"
     ]
    }
   ],
   "source": [
    "results = model(image_rgb, size=640) \n",
    "results.print()\n",
    "results.show()\n",
    "#results.save()"
   ]
  },
  {
   "cell_type": "code",
   "execution_count": null,
   "id": "73da277b",
   "metadata": {},
   "outputs": [],
   "source": []
  }
 ],
 "metadata": {
  "kernelspec": {
   "display_name": "Python 3 (ipykernel)",
   "language": "python",
   "name": "python3"
  },
  "language_info": {
   "codemirror_mode": {
    "name": "ipython",
    "version": 3
   },
   "file_extension": ".py",
   "mimetype": "text/x-python",
   "name": "python",
   "nbconvert_exporter": "python",
   "pygments_lexer": "ipython3",
   "version": "3.9.6"
  }
 },
 "nbformat": 4,
 "nbformat_minor": 5
}
